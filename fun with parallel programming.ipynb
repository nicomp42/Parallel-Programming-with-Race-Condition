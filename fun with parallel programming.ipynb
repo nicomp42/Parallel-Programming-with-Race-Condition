{
 "cells": [
  {
   "cell_type": "markdown",
   "id": "a5764a3e-7a74-40f2-991a-18e817ba1ccf",
   "metadata": {},
   "source": [
    "### Introduction to Parallel Programming\n",
    "### A seriously non-deterministic program with a race condition\n",
    "##### Adapted from https://realpython.com/intro-to-python-threading/"
   ]
  },
  {
   "cell_type": "markdown",
   "id": "b575378c-588b-4cf7-a371-8701f66eed23",
   "metadata": {},
   "source": [
    "##### This logic spawns two threads, each makes a deposit to the same bank account.\n",
    "##### The starting balance is 1000. The two deposits are 500 and 100. \n",
    "##### The final balance should be 1600, but it's not always correct.\n",
    "##### Run this notebook several times and you will get different results for the final balance."
   ]
  },
  {
   "cell_type": "code",
   "execution_count": 1,
   "id": "929e9dce-962e-4b5e-abcf-c7f998142e5d",
   "metadata": {},
   "outputs": [],
   "source": [
    "import multiprocessing as mp\n",
    "\n",
    "import logging\n",
    "import threading\n",
    "import time\n",
    "\n",
    "from random import randint\n",
    "from time import sleep"
   ]
  },
  {
   "cell_type": "code",
   "execution_count": 2,
   "id": "24b70764-ec14-4b1f-9e1c-1a9a713774ec",
   "metadata": {},
   "outputs": [
    {
     "name": "stdout",
     "output_type": "stream",
     "text": [
      "Number of processors (cores, actually):  4\n"
     ]
    }
   ],
   "source": [
    "print(\"Number of processors (cores, actually): \", mp.cpu_count())"
   ]
  },
  {
   "cell_type": "code",
   "execution_count": 3,
   "id": "fb66bc64-139e-4106-976e-5879eca9bbaf",
   "metadata": {},
   "outputs": [],
   "source": [
    "# This is a global variable that is shared throughout this notebook.\n",
    "# Threads are racing each other to access this variable.\n",
    "accountBalance = 100"
   ]
  },
  {
   "cell_type": "code",
   "execution_count": 4,
   "id": "1e396d7d-ca28-4e19-9d6e-eb02ba980b2d",
   "metadata": {},
   "outputs": [],
   "source": [
    "def makeDeposit(amount):\n",
    "    '''\n",
    "    amount = the $$$ to deposit in the bank account.\n",
    "    We have introduced some random delays in the code to ensure non-determinstic results\n",
    "    '''\n",
    "    global accountBalance\n",
    "    tmpAccountBalance = accountBalance\n",
    "    sleep(randint(1,5))\n",
    "    tmpAccountBalance = tmpAccountBalance + amount\n",
    "    sleep(randint(1,5))\n",
    "    accountBalance = tmpAccountBalance\n",
    "    "
   ]
  },
  {
   "cell_type": "code",
   "execution_count": 5,
   "id": "74a414d0-c646-491a-86f6-0af2d4231d7c",
   "metadata": {
    "tags": []
   },
   "outputs": [],
   "source": [
    "def runInParallel():\n",
    "    '''\n",
    "    Make two deposits of 100 and 500 to the bank account.\n",
    "    The two deposits are in seperate threads, running in parallel.\n",
    "    They will interfere with each other!\n",
    "    '''\n",
    "    global accountBalance\n",
    "    print(\"Running parallelly...\")\n",
    "    #format = \"%(asctime)s: %(message)s\"\n",
    "    #logging.basicConfig(format=format, level=logging.INFO, datefmt=\"%H:%M:%S\")\n",
    "    #logging.info(\"Main    : before creating thread\")\n",
    "    deposit1 = threading.Thread(target=makeDeposit, args=(100,))\n",
    "    #logging.info(\"Main    : before running thread\")\n",
    "    deposit1.start()\n",
    "\n",
    "    deposit2 = threading.Thread(target=makeDeposit, args=(500,))\n",
    "    deposit2.start()\n",
    "\n",
    "    #logging.info(\"Main    : wait for the threads to finish\")\n",
    "    deposit1.join()\n",
    "    deposit2.join()\n",
    "    \n",
    "    #logging.info(\"Main    : all done\")   "
   ]
  },
  {
   "cell_type": "code",
   "execution_count": 6,
   "id": "5c5f5d41-d5e8-490a-a5f2-facd19c6d4aa",
   "metadata": {},
   "outputs": [],
   "source": [
    "def runInSerial():\n",
    "    global accountBalance\n",
    "    print(\"Running serially...\")\n",
    "    accountBalance = 0\n",
    "    makeDeposit(100)\n",
    "    makeDeposit(500)\n",
    "    print(\"Account balance = \", accountBalance)"
   ]
  },
  {
   "cell_type": "code",
   "execution_count": 7,
   "id": "a31e7bd2-ec88-4749-9e1c-6b5548bfac45",
   "metadata": {},
   "outputs": [],
   "source": [
    "def main():\n",
    "    global accountBalance\n",
    "    accountBalance = 1000\n",
    "    runInParallel();\n",
    "    print(\"Account balance = \", accountBalance)\n",
    "    "
   ]
  },
  {
   "cell_type": "code",
   "execution_count": 8,
   "id": "7a8968f6-513b-4044-bc0d-39c4a4c4692f",
   "metadata": {},
   "outputs": [
    {
     "name": "stdout",
     "output_type": "stream",
     "text": [
      "Running parallelly...\n",
      "Account balance =  1100\n"
     ]
    }
   ],
   "source": [
    "if __name__ == '__main__':\n",
    "    main()"
   ]
  }
 ],
 "metadata": {
  "kernelspec": {
   "display_name": "Python 3 (ipykernel)",
   "language": "python",
   "name": "python3"
  },
  "language_info": {
   "codemirror_mode": {
    "name": "ipython",
    "version": 3
   },
   "file_extension": ".py",
   "mimetype": "text/x-python",
   "name": "python",
   "nbconvert_exporter": "python",
   "pygments_lexer": "ipython3",
   "version": "3.8.13"
  }
 },
 "nbformat": 4,
 "nbformat_minor": 5
}
