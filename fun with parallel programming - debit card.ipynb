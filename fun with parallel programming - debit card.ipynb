{
 "cells": [
  {
   "cell_type": "markdown",
   "id": "a5764a3e-7a74-40f2-991a-18e817ba1ccf",
   "metadata": {},
   "source": [
    "### Introduction to Parallel Programming - Debit Card\n",
    "### A seriously non-deterministic program with a race condition\n",
    "##### Adapted from https://realpython.com/intro-to-python-threading/"
   ]
  },
  {
   "cell_type": "markdown",
   "id": "b575378c-588b-4cf7-a371-8701f66eed23",
   "metadata": {},
   "source": [
    "##### This logic spawns two threads, each makes a withdrawal from the same debit card acount.\n",
    "##### The starting balance is 100. The two withdrawals are 16 and 14. \n",
    "##### The final balance should be (100 - 16 - 14), but it's not always correct due to a race condition.\n",
    "##### Run this notebook and observe you will get different results for the final balance."
   ]
  },
  {
   "cell_type": "code",
   "execution_count": 1,
   "id": "929e9dce-962e-4b5e-abcf-c7f998142e5d",
   "metadata": {},
   "outputs": [],
   "source": [
    "import multiprocessing as mp\n",
    "\n",
    "import threading\n",
    "import random \n",
    "from random import randint\n",
    "from time import sleep"
   ]
  },
  {
   "cell_type": "code",
   "execution_count": 2,
   "id": "24b70764-ec14-4b1f-9e1c-1a9a713774ec",
   "metadata": {},
   "outputs": [
    {
     "name": "stdout",
     "output_type": "stream",
     "text": [
      "Number of processors (cores, actually):  12\n"
     ]
    }
   ],
   "source": [
    "print(\"Number of processors (cores, actually): \", mp.cpu_count())"
   ]
  },
  {
   "cell_type": "code",
   "execution_count": 3,
   "id": "fb66bc64-139e-4106-976e-5879eca9bbaf",
   "metadata": {},
   "outputs": [],
   "source": [
    "# This is a global variable that is shared throughout this notebook.\n",
    "# Threads are racing each other to access this variable.\n",
    "global accountBalance   # Will be initialized in main\n",
    "# Instantiate a random number generator that we will use to add some time delays. \n",
    "myRandom = random.Random()"
   ]
  },
  {
   "cell_type": "code",
   "execution_count": 4,
   "id": "1e396d7d-ca28-4e19-9d6e-eb02ba980b2d",
   "metadata": {},
   "outputs": [],
   "source": [
    "### Everything falls apart in this logic if we run parallel threads\n",
    "### We need to idenify the \"Critical Section\" and make it atomic. \n",
    "def makeWithdrawal(amount):\n",
    "    '''\n",
    "    amount = the $$$ to withdraw from the debit card account.\n",
    "    We have introduced some random delays in the code to ensure non-determinstic results. \n",
    "    If we don't add delays, the code runs too fast, which is not a real-world scenario. \n",
    "    '''\n",
    "    global accountBalance\n",
    "    tmpAccountBalance = accountBalance\n",
    "    sleep(myRandom.randint(0,2))\n",
    "    tmpAccountBalance = tmpAccountBalance - amount\n",
    "    sleep(myRandom.randint(0,2))\n",
    "    accountBalance = tmpAccountBalance\n",
    "    "
   ]
  },
  {
   "cell_type": "code",
   "execution_count": 5,
   "id": "74a414d0-c646-491a-86f6-0af2d4231d7c",
   "metadata": {
    "tags": []
   },
   "outputs": [],
   "source": [
    "def runInParallel():\n",
    "    '''\n",
    "    Make two withdrawals of 14 and 16 from the debit card account.\n",
    "    The two withdrawals are in seperate threads, running in parallel.\n",
    "    They will interfere with each other!\n",
    "    '''\n",
    "    global accountBalance\n",
    "    print(\"Running parallelly... \")\n",
    "\n",
    "    amazonPrimeThread = threading.Thread(target=makeWithdrawal, args=(16,))\n",
    "    amazonPrimeThread.start()\n",
    "\n",
    "    netFlixThread = threading.Thread(target=makeWithdrawal, args=(14,))\n",
    "    netFlixThread.start()\n",
    "\n",
    "    # Wait for all the threads to complete\n",
    "    amazonPrimeThread.join()\n",
    "    netFlixThread.join()\n"
   ]
  },
  {
   "cell_type": "code",
   "execution_count": 6,
   "id": "5c5f5d41-d5e8-490a-a5f2-facd19c6d4aa",
   "metadata": {},
   "outputs": [],
   "source": [
    "def runInSerial():\n",
    "    global accountBalance\n",
    "    print(\"Running serially... \")\n",
    "    makeWithdrawal(16)\n",
    "    makeWithdrawal(14)\n",
    "    #print(\"Account balance = \", accountBalance)"
   ]
  },
  {
   "cell_type": "code",
   "execution_count": 7,
   "id": "a31e7bd2-ec88-4749-9e1c-6b5548bfac45",
   "metadata": {},
   "outputs": [],
   "source": [
    "def main():\n",
    "    print(\"There's a race condition. This probably won't work the first time!\")\n",
    "    for attempts in range(1,1000):\n",
    "        global accountBalance\n",
    "\n",
    "        accountBalance = 100\n",
    "        runInSerial()\n",
    "        print(\"Final account balance = \", accountBalance)\n",
    "\n",
    "        accountBalance = 100\n",
    "        runInParallel()\n",
    "        print(\"Final account balance = \", accountBalance)\n",
    "        if accountBalance == 70:\n",
    "            if attempts > 1:\n",
    "                print(\"  running in parallel, it finally worked, after \" , attempts, \" attempts!\")\n",
    "            else:\n",
    "                print(\"  running in parallel, it worked the first time!\")\n",
    "            break\n",
    "        print(\"******************************************************\")\n",
    "        "
   ]
  },
  {
   "cell_type": "code",
   "execution_count": 8,
   "id": "7a8968f6-513b-4044-bc0d-39c4a4c4692f",
   "metadata": {},
   "outputs": [
    {
     "name": "stdout",
     "output_type": "stream",
     "text": [
      "There's a race condition. This probably won't work the first time!\n",
      "Running serially... \n",
      "Final account balance =  70\n",
      "Running parallelly... \n",
      "Final account balance =  84\n",
      "******************************************************\n",
      "Running serially... \n",
      "Final account balance =  70\n",
      "Running parallelly... \n",
      "Final account balance =  84\n",
      "******************************************************\n",
      "Running serially... \n",
      "Final account balance =  70\n",
      "Running parallelly... \n",
      "Final account balance =  84\n",
      "******************************************************\n",
      "Running serially... \n",
      "Final account balance =  70\n",
      "Running parallelly... \n",
      "Final account balance =  86\n",
      "******************************************************\n",
      "Running serially... \n",
      "Final account balance =  70\n",
      "Running parallelly... \n",
      "Final account balance =  86\n",
      "******************************************************\n",
      "Running serially... \n",
      "Final account balance =  70\n",
      "Running parallelly... \n",
      "Final account balance =  86\n",
      "******************************************************\n",
      "Running serially... \n",
      "Final account balance =  70\n",
      "Running parallelly... \n",
      "Final account balance =  86\n",
      "******************************************************\n",
      "Running serially... \n",
      "Final account balance =  70\n",
      "Running parallelly... \n",
      "Final account balance =  84\n",
      "******************************************************\n",
      "Running serially... \n",
      "Final account balance =  70\n",
      "Running parallelly... \n",
      "Final account balance =  86\n",
      "******************************************************\n",
      "Running serially... \n",
      "Final account balance =  70\n",
      "Running parallelly... \n",
      "Final account balance =  84\n",
      "******************************************************\n",
      "Running serially... \n",
      "Final account balance =  70\n",
      "Running parallelly... \n",
      "Final account balance =  70\n",
      "  running in parallel, it finally worked, after  11  attempts!\n"
     ]
    }
   ],
   "source": [
    "if __name__ == '__main__':\n",
    "    main()"
   ]
  },
  {
   "cell_type": "code",
   "execution_count": null,
   "id": "956cc996-e8e0-4818-99e7-865579a5a1d5",
   "metadata": {},
   "outputs": [],
   "source": []
  },
  {
   "cell_type": "code",
   "execution_count": null,
   "id": "118a3861-d2c5-4923-b818-cf626f2e6d93",
   "metadata": {},
   "outputs": [],
   "source": []
  }
 ],
 "metadata": {
  "kernelspec": {
   "display_name": "Python [conda env:base] *",
   "language": "python",
   "name": "conda-base-py"
  },
  "language_info": {
   "codemirror_mode": {
    "name": "ipython",
    "version": 3
   },
   "file_extension": ".py",
   "mimetype": "text/x-python",
   "name": "python",
   "nbconvert_exporter": "python",
   "pygments_lexer": "ipython3",
   "version": "3.13.5"
  }
 },
 "nbformat": 4,
 "nbformat_minor": 5
}
